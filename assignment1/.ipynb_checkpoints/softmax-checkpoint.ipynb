{
 "cells": [
  {
   "cell_type": "markdown",
   "metadata": {},
   "source": [
    "# Softmax exercise\n",
    "\n",
    "*Complete and hand in this completed worksheet (including its outputs and any supporting code outside of the worksheet) with your assignment submission. For more details see the [assignments page](http://vision.stanford.edu/teaching/cs231n/assignments.html) on the course website.*\n",
    "\n",
    "This exercise is analogous to the SVM exercise. You will:\n",
    "\n",
    "- implement a fully-vectorized **loss function** for the Softmax classifier\n",
    "- implement the fully-vectorized expression for its **analytic gradient**\n",
    "- **check your implementation** with numerical gradient\n",
    "- use a validation set to **tune the learning rate and regularization** strength\n",
    "- **optimize** the loss function with **SGD**\n",
    "- **visualize** the final learned weights\n"
   ]
  },
  {
   "cell_type": "code",
   "execution_count": 1,
   "metadata": {},
   "outputs": [],
   "source": [
    "import random\n",
    "import numpy as np\n",
    "from cs231n.data_utils import load_CIFAR10\n",
    "import matplotlib.pyplot as plt\n",
    "\n",
    "from __future__ import print_function\n",
    "\n",
    "%matplotlib inline\n",
    "plt.rcParams['figure.figsize'] = (10.0, 8.0) # set default size of plots\n",
    "plt.rcParams['image.interpolation'] = 'nearest'\n",
    "plt.rcParams['image.cmap'] = 'gray'\n",
    "\n",
    "# for auto-reloading extenrnal modules\n",
    "# see http://stackoverflow.com/questions/1907993/autoreload-of-modules-in-ipython\n",
    "%load_ext autoreload\n",
    "%autoreload 2"
   ]
  },
  {
   "cell_type": "code",
   "execution_count": 2,
   "metadata": {},
   "outputs": [
    {
     "name": "stdout",
     "output_type": "stream",
     "text": [
      "Train data shape:  (49000, 3073)\n",
      "Train labels shape:  (49000,)\n",
      "Validation data shape:  (1000, 3073)\n",
      "Validation labels shape:  (1000,)\n",
      "Test data shape:  (1000, 3073)\n",
      "Test labels shape:  (1000,)\n",
      "dev data shape:  (500, 3073)\n",
      "dev labels shape:  (500,)\n"
     ]
    }
   ],
   "source": [
    "def get_CIFAR10_data(num_training=49000, num_validation=1000, num_test=1000, num_dev=500):\n",
    "    \"\"\"\n",
    "    Load the CIFAR-10 dataset from disk and perform preprocessing to prepare\n",
    "    it for the linear classifier. These are the same steps as we used for the\n",
    "    SVM, but condensed to a single function.  \n",
    "    \"\"\"\n",
    "    # Load the raw CIFAR-10 data\n",
    "    cifar10_dir = 'cs231n/datasets/cifar-10-batches-py'\n",
    "    \n",
    "    X_train, y_train, X_test, y_test = load_CIFAR10(cifar10_dir)\n",
    "    \n",
    "    # subsample the data\n",
    "    mask = list(range(num_training, num_training + num_validation))\n",
    "    X_val = X_train[mask]\n",
    "    y_val = y_train[mask]\n",
    "    mask = list(range(num_training))\n",
    "    X_train = X_train[mask]\n",
    "    y_train = y_train[mask]\n",
    "    mask = list(range(num_test))\n",
    "    X_test = X_test[mask]\n",
    "    y_test = y_test[mask]\n",
    "    mask = np.random.choice(num_training, num_dev, replace=False)\n",
    "    X_dev = X_train[mask]\n",
    "    y_dev = y_train[mask]\n",
    "    \n",
    "    # Preprocessing: reshape the image data into rows\n",
    "    X_train = np.reshape(X_train, (X_train.shape[0], -1))\n",
    "    X_val = np.reshape(X_val, (X_val.shape[0], -1))\n",
    "    X_test = np.reshape(X_test, (X_test.shape[0], -1))\n",
    "    X_dev = np.reshape(X_dev, (X_dev.shape[0], -1))\n",
    "    \n",
    "    # Normalize the data: subtract the mean image\n",
    "    mean_image = np.mean(X_train, axis = 0)\n",
    "    X_train -= mean_image\n",
    "    X_val -= mean_image\n",
    "    X_test -= mean_image\n",
    "    X_dev -= mean_image\n",
    "    \n",
    "    # add bias dimension and transform into columns\n",
    "    X_train = np.hstack([X_train, np.ones((X_train.shape[0], 1))])\n",
    "    X_val = np.hstack([X_val, np.ones((X_val.shape[0], 1))])\n",
    "    X_test = np.hstack([X_test, np.ones((X_test.shape[0], 1))])\n",
    "    X_dev = np.hstack([X_dev, np.ones((X_dev.shape[0], 1))])\n",
    "    \n",
    "    return X_train, y_train, X_val, y_val, X_test, y_test, X_dev, y_dev\n",
    "\n",
    "\n",
    "# Cleaning up variables to prevent loading data multiple times (which may cause memory issue)\n",
    "try:\n",
    "   del X_train, y_train\n",
    "   del X_test, y_test\n",
    "   print('Clear previously loaded data.')\n",
    "except:\n",
    "   pass\n",
    "\n",
    "# Invoke the above function to get our data.\n",
    "X_train, y_train, X_val, y_val, X_test, y_test, X_dev, y_dev = get_CIFAR10_data()\n",
    "print('Train data shape: ', X_train.shape)\n",
    "print('Train labels shape: ', y_train.shape)\n",
    "print('Validation data shape: ', X_val.shape)\n",
    "print('Validation labels shape: ', y_val.shape)\n",
    "print('Test data shape: ', X_test.shape)\n",
    "print('Test labels shape: ', y_test.shape)\n",
    "print('dev data shape: ', X_dev.shape)\n",
    "print('dev labels shape: ', y_dev.shape)"
   ]
  },
  {
   "cell_type": "markdown",
   "metadata": {},
   "source": [
    "## Softmax Classifier\n",
    "\n",
    "Your code for this section will all be written inside **cs231n/classifiers/softmax.py**. \n"
   ]
  },
  {
   "cell_type": "code",
   "execution_count": 3,
   "metadata": {},
   "outputs": [
    {
     "name": "stdout",
     "output_type": "stream",
     "text": [
      "loss: 2.317744\n",
      "sanity check: 2.302585\n"
     ]
    }
   ],
   "source": [
    "# First implement the naive softmax loss function with nested loops.\n",
    "# Open the file cs231n/classifiers/softmax.py and implement the\n",
    "# softmax_loss_naive function.\n",
    "\n",
    "from cs231n.classifiers.softmax import softmax_loss_naive\n",
    "import time\n",
    "\n",
    "# Generate a random softmax weight matrix and use it to compute the loss.\n",
    "W = np.random.randn(3073, 10) * 0.0001\n",
    "loss, grad = softmax_loss_naive(W, X_dev, y_dev, 0.0)\n",
    "\n",
    "# As a rough sanity check, our loss should be something close to -log(0.1).\n",
    "print('loss: %f' % loss)\n",
    "print('sanity check: %f' % (-np.log(0.1)))"
   ]
  },
  {
   "cell_type": "markdown",
   "metadata": {},
   "source": [
    "## Inline Question 1:\n",
    "Why do we expect our loss to be close to -log(0.1)? Explain briefly.**\n",
    "\n",
    "**Your answer:** *Fill this in*\n"
   ]
  },
  {
   "cell_type": "code",
   "execution_count": 4,
   "metadata": {},
   "outputs": [
    {
     "name": "stdout",
     "output_type": "stream",
     "text": [
      "numerical: -0.004009 analytic: -0.004009, relative error: 6.568173e-06\n",
      "numerical: 0.346019 analytic: 0.346019, relative error: 5.348950e-08\n",
      "numerical: -0.143930 analytic: -0.143930, relative error: 1.113724e-07\n",
      "numerical: 1.351930 analytic: 1.351929, relative error: 3.881148e-08\n",
      "numerical: 2.491557 analytic: 2.491557, relative error: 9.495656e-09\n",
      "numerical: -0.098161 analytic: -0.098161, relative error: 1.587468e-07\n",
      "numerical: -0.944127 analytic: -0.944127, relative error: 8.067554e-09\n",
      "numerical: 2.241080 analytic: 2.241080, relative error: 2.104575e-08\n",
      "numerical: 1.301457 analytic: 1.301457, relative error: 3.248461e-08\n",
      "numerical: 3.788317 analytic: 3.788317, relative error: 3.209932e-10\n",
      "numerical: -1.692284 analytic: -1.692284, relative error: 8.018655e-09\n",
      "numerical: -1.129168 analytic: -1.129169, relative error: 3.938323e-08\n",
      "numerical: 1.823465 analytic: 1.823466, relative error: 1.171220e-08\n",
      "numerical: 1.023419 analytic: 1.023419, relative error: 5.256485e-10\n",
      "numerical: -2.398915 analytic: -2.398915, relative error: 1.898667e-08\n",
      "numerical: 1.107166 analytic: 1.107166, relative error: 2.400385e-08\n",
      "numerical: -1.493726 analytic: -1.493726, relative error: 1.031981e-08\n",
      "numerical: 1.768601 analytic: 1.768601, relative error: 6.787772e-09\n",
      "numerical: -1.254882 analytic: -1.254882, relative error: 1.415829e-08\n",
      "numerical: -0.496404 analytic: -0.496404, relative error: 3.839387e-08\n"
     ]
    }
   ],
   "source": [
    "# Complete the implementation of softmax_loss_naive and implement a (naive)\n",
    "# version of the gradient that uses nested loops.\n",
    "loss, grad = softmax_loss_naive(W, X_dev, y_dev, 0.0)\n",
    "\n",
    "# As we did for the SVM, use numeric gradient checking as a debugging tool.\n",
    "# The numeric gradient should be close to the analytic gradient.\n",
    "from cs231n.gradient_check import grad_check_sparse\n",
    "f = lambda w: softmax_loss_naive(w, X_dev, y_dev, 0.0)[0]\n",
    "grad_numerical = grad_check_sparse(f, W, grad, 10)\n",
    "\n",
    "# similar to SVM case, do another gradient check with regularization\n",
    "loss, grad = softmax_loss_naive(W, X_dev, y_dev, 5e1)\n",
    "f = lambda w: softmax_loss_naive(w, X_dev, y_dev, 5e1)[0]\n",
    "grad_numerical = grad_check_sparse(f, W, grad, 10)"
   ]
  },
  {
   "cell_type": "code",
   "execution_count": 20,
   "metadata": {},
   "outputs": [
    {
     "name": "stdout",
     "output_type": "stream",
     "text": [
      "naive loss: 2.317744e+00 computed in 0.070777s\n",
      "vectorized loss: 2.317744e+00 computed in 0.006978s\n",
      "Loss difference: 0.000000\n",
      "Gradient difference: 0.000000\n"
     ]
    }
   ],
   "source": [
    "# Now that we have a naive implementation of the softmax loss function and its gradient,\n",
    "# implement a vectorized version in softmax_loss_vectorized.\n",
    "# The two versions should compute the same results, but the vectorized version should be\n",
    "# much faster.\n",
    "tic = time.time()\n",
    "loss_naive, grad_naive = softmax_loss_naive(W, X_dev, y_dev, 0.000005)\n",
    "toc = time.time()\n",
    "print('naive loss: %e computed in %fs' % (loss_naive, toc - tic))\n",
    "\n",
    "from cs231n.classifiers.softmax import softmax_loss_vectorized\n",
    "tic = time.time()\n",
    "loss_vectorized, grad_vectorized = softmax_loss_vectorized(W, X_dev, y_dev, 0.000005)\n",
    "toc = time.time()\n",
    "print('vectorized loss: %e computed in %fs' % (loss_vectorized, toc - tic))\n",
    "\n",
    "# As we did for the SVM, we use the Frobenius norm to compare the two versions\n",
    "# of the gradient.\n",
    "grad_difference = np.linalg.norm(grad_naive - grad_vectorized, ord='fro')\n",
    "print('Loss difference: %f' % np.abs(loss_naive - loss_vectorized))\n",
    "print('Gradient difference: %f' % grad_difference)"
   ]
  },
  {
   "cell_type": "code",
   "execution_count": 30,
   "metadata": {},
   "outputs": [
    {
     "name": "stdout",
     "output_type": "stream",
     "text": [
      "iteration 0 / 1000: loss 5.347467\n",
      "iteration 100 / 1000: loss 2.356031\n",
      "iteration 200 / 1000: loss 1.989917\n",
      "iteration 300 / 1000: loss 2.002630\n",
      "iteration 400 / 1000: loss 1.843919\n",
      "iteration 500 / 1000: loss 1.903576\n",
      "iteration 600 / 1000: loss 2.042388\n",
      "iteration 700 / 1000: loss 2.133932\n",
      "iteration 800 / 1000: loss 1.779133\n",
      "iteration 900 / 1000: loss 1.590074\n",
      "iteration 0 / 1000: loss 4.770907\n",
      "iteration 100 / 1000: loss 2.305902\n",
      "iteration 200 / 1000: loss 2.084144\n",
      "iteration 300 / 1000: loss 2.012005\n",
      "iteration 400 / 1000: loss 1.882703\n",
      "iteration 500 / 1000: loss 2.032944\n",
      "iteration 600 / 1000: loss 2.004542\n",
      "iteration 700 / 1000: loss 1.687667\n",
      "iteration 800 / 1000: loss 1.891777\n",
      "iteration 900 / 1000: loss 1.898395\n",
      "iteration 0 / 1000: loss 5.397781\n",
      "iteration 100 / 1000: loss 2.307993\n",
      "iteration 200 / 1000: loss 2.133957\n",
      "iteration 300 / 1000: loss 1.908874\n",
      "iteration 400 / 1000: loss 1.828719\n",
      "iteration 500 / 1000: loss 1.920442\n",
      "iteration 600 / 1000: loss 2.016963\n",
      "iteration 700 / 1000: loss 1.743944\n",
      "iteration 800 / 1000: loss 1.907923\n",
      "iteration 900 / 1000: loss 1.756777\n",
      "iteration 0 / 1000: loss 5.153302\n",
      "iteration 100 / 1000: loss 2.745011\n",
      "iteration 200 / 1000: loss 2.423389\n",
      "iteration 300 / 1000: loss 2.089311\n",
      "iteration 400 / 1000: loss 2.165315\n",
      "iteration 500 / 1000: loss 2.169633\n",
      "iteration 600 / 1000: loss 2.147006\n",
      "iteration 700 / 1000: loss 2.330965\n",
      "iteration 800 / 1000: loss 1.984908\n",
      "iteration 900 / 1000: loss 1.980621\n",
      "iteration 0 / 1000: loss 5.211025\n",
      "iteration 100 / 1000: loss 2.837714\n",
      "iteration 200 / 1000: loss 2.522813\n",
      "iteration 300 / 1000: loss 2.481693\n",
      "iteration 400 / 1000: loss 2.003308\n",
      "iteration 500 / 1000: loss 2.223504\n",
      "iteration 600 / 1000: loss 2.177248\n",
      "iteration 700 / 1000: loss 2.175123\n",
      "iteration 800 / 1000: loss 1.962025\n",
      "iteration 900 / 1000: loss 1.991842\n",
      "iteration 0 / 1000: loss 6.647235\n",
      "iteration 100 / 1000: loss 2.914453\n",
      "iteration 200 / 1000: loss 2.529372\n",
      "iteration 300 / 1000: loss 2.233659\n",
      "iteration 400 / 1000: loss 2.373453\n",
      "iteration 500 / 1000: loss 2.188237\n",
      "iteration 600 / 1000: loss 2.208512\n",
      "iteration 700 / 1000: loss 2.185779\n",
      "iteration 800 / 1000: loss 2.088238\n",
      "iteration 900 / 1000: loss 2.036723\n",
      "iteration 0 / 1000: loss 5.287807\n",
      "iteration 100 / 1000: loss 2.446523\n",
      "iteration 200 / 1000: loss 2.258901\n",
      "iteration 300 / 1000: loss 2.110744\n",
      "iteration 400 / 1000: loss 1.964314\n",
      "iteration 500 / 1000: loss 2.095860\n",
      "iteration 600 / 1000: loss 2.029962\n",
      "iteration 700 / 1000: loss 1.887950\n",
      "iteration 800 / 1000: loss 1.909356\n",
      "iteration 900 / 1000: loss 1.991814\n",
      "iteration 0 / 1000: loss 5.135360\n",
      "iteration 100 / 1000: loss 2.547677\n",
      "iteration 200 / 1000: loss 2.192479\n",
      "iteration 300 / 1000: loss 2.145851\n",
      "iteration 400 / 1000: loss 1.942605\n",
      "iteration 500 / 1000: loss 1.928297\n",
      "iteration 600 / 1000: loss 1.951181\n",
      "iteration 700 / 1000: loss 1.971066\n",
      "iteration 800 / 1000: loss 1.956672\n",
      "iteration 900 / 1000: loss 1.957306\n",
      "iteration 0 / 1000: loss 5.843302\n",
      "iteration 100 / 1000: loss 2.607440\n",
      "iteration 200 / 1000: loss 2.054772\n",
      "iteration 300 / 1000: loss 2.297638\n",
      "iteration 400 / 1000: loss 2.205373\n",
      "iteration 500 / 1000: loss 2.221687\n",
      "iteration 600 / 1000: loss 1.925613\n",
      "iteration 700 / 1000: loss 1.986402\n",
      "iteration 800 / 1000: loss 2.015038\n",
      "iteration 900 / 1000: loss 1.950663\n",
      "lr 1.000000e-06 reg 2.500000e+04 train accuracy: 0.333041 val accuracy: 0.340000\n",
      "lr 1.000000e-06 reg 5.000000e+04 train accuracy: 0.327571 val accuracy: 0.325000\n",
      "lr 1.000000e-06 reg 7.500000e+04 train accuracy: 0.326755 val accuracy: 0.337000\n",
      "lr 2.000000e-06 reg 2.500000e+04 train accuracy: 0.361531 val accuracy: 0.333000\n",
      "lr 2.000000e-06 reg 5.000000e+04 train accuracy: 0.356857 val accuracy: 0.353000\n",
      "lr 2.000000e-06 reg 7.500000e+04 train accuracy: 0.356184 val accuracy: 0.355000\n",
      "lr 5.000000e-06 reg 2.500000e+04 train accuracy: 0.370592 val accuracy: 0.351000\n",
      "lr 5.000000e-06 reg 5.000000e+04 train accuracy: 0.371959 val accuracy: 0.348000\n",
      "lr 5.000000e-06 reg 7.500000e+04 train accuracy: 0.367265 val accuracy: 0.343000\n",
      "best validation accuracy achieved during cross-validation: 0.355000\n"
     ]
    }
   ],
   "source": [
    "# Use the validation set to tune hyperparameters (regularization strength and\n",
    "# learning rate). You should experiment with different ranges for the learning\n",
    "# rates and regularization strengths; if you are careful you should be able to\n",
    "# get a classification accuracy of over 0.35 on the validation set.\n",
    "from cs231n.classifiers import Softmax\n",
    "results = {}\n",
    "best_val = -1\n",
    "best_softmax = None\n",
    "learning_rates = [ 5e-6, 1e-6, 2e-6]\n",
    "regularization_strengths = [2.5e4, 5e4, 7.5e4]\n",
    "\n",
    "################################################################################\n",
    "# TODO:                                                                        #\n",
    "# Use the validation set to set the learning rate and regularization strength. #\n",
    "# This should be identical to the validation that you did for the SVM; save    #\n",
    "# the best trained softmax classifer in best_softmax.                          #\n",
    "################################################################################\n",
    "for lr in learning_rates:\n",
    "    for reg in regularization_strengths:\n",
    "        softmax = Softmax()\n",
    "        softmax.train(X_train, y_train, lr, reg, num_iters=1000, verbose=True)\n",
    "        y_train_pred = softmax.predict(X_train) \n",
    "        y_val_pred = softmax.predict(X_val)\n",
    "        training_accuracy = np.mean(y_train == y_train_pred)\n",
    "        validation_accuracy = np.mean(y_val == y_val_pred)\n",
    "        results[(lr,reg)]=(training_accuracy, validation_accuracy)\n",
    "        if validation_accuracy > best_val:\n",
    "            best_val = validation_accuracy\n",
    "            best_softmax = softmax\n",
    "        \n",
    "\n",
    "################################################################################\n",
    "#                              END OF YOUR CODE                                #\n",
    "################################################################################\n",
    "    \n",
    "# Print out results.\n",
    "for lr, reg in sorted(results):\n",
    "    train_accuracy, val_accuracy = results[(lr, reg)]\n",
    "    print('lr %e reg %e train accuracy: %f val accuracy: %f' % (\n",
    "                lr, reg, train_accuracy, val_accuracy))\n",
    "    \n",
    "print('best validation accuracy achieved during cross-validation: %f' % best_val)"
   ]
  },
  {
   "cell_type": "code",
   "execution_count": 31,
   "metadata": {},
   "outputs": [
    {
     "name": "stdout",
     "output_type": "stream",
     "text": [
      "softmax on raw pixels final test set accuracy: 0.319000\n"
     ]
    }
   ],
   "source": [
    "# evaluate on test set\n",
    "# Evaluate the best softmax on test set\n",
    "y_test_pred = best_softmax.predict(X_test)\n",
    "test_accuracy = np.mean(y_test == y_test_pred)\n",
    "print('softmax on raw pixels final test set accuracy: %f' % (test_accuracy, ))"
   ]
  },
  {
   "cell_type": "markdown",
   "metadata": {},
   "source": [
    "**Inline Question** - *True or False*\n",
    "\n",
    "It's possible to add a new datapoint to a training set that would leave the SVM loss unchanged, but this is not the case with the Softmax classifier loss.\n",
    "\n",
    "*Your answer*:\n",
    "\n",
    "*Your explanation*:"
   ]
  },
  {
   "cell_type": "code",
   "execution_count": 32,
   "metadata": {},
   "outputs": [
    {
     "data": {
      "image/png": "[encoded data removed]",
      "text/plain": [
       "<Figure size 432x288 with 10 Axes>"
      ]
     },
     "metadata": {},
     "output_type": "display_data"
    }
   ],
   "source": [
    "# Visualize the learned weights for each class\n",
    "w = best_softmax.W[:-1,:] # strip out the bias\n",
    "w = w.reshape(32, 32, 3, 10)\n",
    "\n",
    "w_min, w_max = np.min(w), np.max(w)\n",
    "\n",
    "classes = ['plane', 'car', 'bird', 'cat', 'deer', 'dog', 'frog', 'horse', 'ship', 'truck']\n",
    "for i in range(10):\n",
    "    plt.subplot(2, 5, i + 1)\n",
    "    \n",
    "    # Rescale the weights to be between 0 and 255\n",
    "    wimg = 255.0 * (w[:, :, :, i].squeeze() - w_min) / (w_max - w_min)\n",
    "    plt.imshow(wimg.astype('uint8'))\n",
    "    plt.axis('off')\n",
    "    plt.title(classes[i])"
   ]
  }
 ],
 "metadata": {
  "kernelspec": {
   "display_name": "Python 3",
   "language": "python",
   "name": "python3"
  },
  "language_info": {
   "codemirror_mode": {
    "name": "ipython",
    "version": 3
   },
   "file_extension": ".py",
   "mimetype": "text/x-python",
   "name": "python",
   "nbconvert_exporter": "python",
   "pygments_lexer": "ipython3",
   "version": "3.6.5"
  }
 },
 "nbformat": 4,
 "nbformat_minor": 1
}
